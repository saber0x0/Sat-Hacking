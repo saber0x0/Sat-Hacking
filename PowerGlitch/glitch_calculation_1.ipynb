{
 "cells": [
  {
   "cell_type": "code",
   "execution_count": 33,
   "id": "9dc311fa",
   "metadata": {},
   "outputs": [
    {
     "name": "stdout",
     "output_type": "stream",
     "text": [
      "INFO: Caught exception on reconnecting to target - attempting to reconnect to scope first.\n",
      "INFO: This is a work-around when USB has died without Python knowing. Ignore errors above this line.\n",
      "INFO: Found ChipWhisperer😍\n"
     ]
    }
   ],
   "source": [
    "SCOPETYPE = 'OPENADC'\n",
    "PLATFORM = 'CWLITEARM'\n",
    "%run \"../../Setup_Scripts/Setup_Generic.ipynb\""
   ]
  },
  {
   "cell_type": "code",
   "execution_count": 34,
   "id": "1a9e5503",
   "metadata": {},
   "outputs": [],
   "source": [
    "scope.clock.clkgen_freq=100E6"
   ]
  },
  {
   "cell_type": "code",
   "execution_count": 35,
   "id": "bb19bf36",
   "metadata": {},
   "outputs": [],
   "source": [
    "scope.glitch.clk_src=\"clkgen\""
   ]
  },
  {
   "cell_type": "code",
   "execution_count": 36,
   "id": "035fb7e7",
   "metadata": {},
   "outputs": [],
   "source": [
    "scope.glitch.resetDCMs()"
   ]
  },
  {
   "cell_type": "code",
   "execution_count": 37,
   "id": "fd043cce",
   "metadata": {},
   "outputs": [],
   "source": [
    "scope.glitch.output=\"enable_only\""
   ]
  },
  {
   "cell_type": "code",
   "execution_count": 2865,
   "id": "ecd8ca56",
   "metadata": {},
   "outputs": [],
   "source": [
    "scope.io.glitch_hp=True\n",
    "scope.glitch.width = 20"
   ]
  },
  {
   "cell_type": "code",
   "execution_count": 2866,
   "id": "1d1b4137",
   "metadata": {},
   "outputs": [
    {
     "ename": "USBErrorIO",
     "evalue": "LIBUSB_ERROR_IO [-1]",
     "output_type": "error",
     "traceback": [
      "\u001b[1;31m---------------------------------------------------------------------------\u001b[0m",
      "\u001b[1;31mUSBErrorIO\u001b[0m                                Traceback (most recent call last)",
      "Cell \u001b[1;32mIn[2866], line 3\u001b[0m\n\u001b[0;32m      1\u001b[0m \u001b[38;5;28;01mimport\u001b[39;00m \u001b[38;5;21;01mtime\u001b[39;00m \n\u001b[0;32m      2\u001b[0m \u001b[38;5;28;01mwhile\u001b[39;00m \u001b[38;5;28;01mTrue\u001b[39;00m:\n\u001b[1;32m----> 3\u001b[0m     \u001b[43mscope\u001b[49m\u001b[38;5;241;43m.\u001b[39;49m\u001b[43mglitch\u001b[49m\u001b[38;5;241;43m.\u001b[39;49m\u001b[43mrepeat\u001b[49m \u001b[38;5;241m=\u001b[39m \u001b[38;5;241m980\u001b[39m\n\u001b[0;32m      4\u001b[0m     scope\u001b[38;5;241m.\u001b[39mglitch\u001b[38;5;241m.\u001b[39mmanual_trigger()\n\u001b[0;32m      5\u001b[0m     time\u001b[38;5;241m.\u001b[39msleep(\u001b[38;5;241m0.35\u001b[39m)  \u001b[38;5;66;03m# 暂停1秒\u001b[39;00m\n",
      "File \u001b[1;32md:\\chipwhisperer5_64\\cw\\home\\portable\\chipwhisperer\\software\\chipwhisperer\\common\\utils\\util.py:360\u001b[0m, in \u001b[0;36mDisableNewAttr.__setattr__\u001b[1;34m(self, name, value)\u001b[0m\n\u001b[0;32m    359\u001b[0m \u001b[38;5;28;01mdef\u001b[39;00m \u001b[38;5;21m__setattr__\u001b[39m(\u001b[38;5;28mself\u001b[39m, name, value):\n\u001b[1;32m--> 360\u001b[0m     \u001b[38;5;28;01mif\u001b[39;00m \u001b[38;5;28mhasattr\u001b[39m(\u001b[38;5;28mself\u001b[39m, \u001b[38;5;124m'\u001b[39m\u001b[38;5;124m_new_attributes_disabled\u001b[39m\u001b[38;5;124m'\u001b[39m) \u001b[38;5;129;01mand\u001b[39;00m \u001b[38;5;28mself\u001b[39m\u001b[38;5;241m.\u001b[39m_new_attributes_disabled \u001b[38;5;129;01mand\u001b[39;00m \u001b[38;5;129;01mnot\u001b[39;00m \u001b[38;5;28;43mhasattr\u001b[39;49m\u001b[43m(\u001b[49m\u001b[38;5;28;43mself\u001b[39;49m\u001b[43m,\u001b[49m\u001b[43m \u001b[49m\u001b[43mname\u001b[49m\u001b[43m)\u001b[49m:  \u001b[38;5;66;03m# would this create a new attribute?\u001b[39;00m\n\u001b[0;32m    361\u001b[0m         \u001b[38;5;66;03m#raise AttributeError(\"Attempt to set unknown attribute in %s\"%self.__class__, name)\u001b[39;00m\n\u001b[0;32m    362\u001b[0m         other_logger\u001b[38;5;241m.\u001b[39merror(\u001b[38;5;124m\"\u001b[39m\u001b[38;5;124mSetting unknown attribute \u001b[39m\u001b[38;5;132;01m{}\u001b[39;00m\u001b[38;5;124m in \u001b[39m\u001b[38;5;132;01m{}\u001b[39;00m\u001b[38;5;124m\"\u001b[39m\u001b[38;5;241m.\u001b[39mformat(name, \u001b[38;5;28mself\u001b[39m\u001b[38;5;241m.\u001b[39m\u001b[38;5;18m__class__\u001b[39m))\n\u001b[0;32m    363\u001b[0m         \u001b[38;5;28;01mif\u001b[39;00m \u001b[38;5;28mhasattr\u001b[39m(\u001b[38;5;28mself\u001b[39m, \u001b[38;5;124m'\u001b[39m\u001b[38;5;124m_new_attributes_disabled_strict\u001b[39m\u001b[38;5;124m'\u001b[39m) \u001b[38;5;129;01mand\u001b[39;00m \u001b[38;5;28mself\u001b[39m\u001b[38;5;241m.\u001b[39m_new_attributes_disabled_strict \u001b[38;5;129;01mand\u001b[39;00m \u001b[38;5;129;01mnot\u001b[39;00m \u001b[38;5;28mhasattr\u001b[39m(\u001b[38;5;28mself\u001b[39m, name):\n",
      "File \u001b[1;32md:\\chipwhisperer5_64\\cw\\home\\portable\\chipwhisperer\\software\\chipwhisperer\\capture\\scopes\\cwhardware\\ChipWhispererGlitch.py:582\u001b[0m, in \u001b[0;36mGlitchSettings.repeat\u001b[1;34m(self)\u001b[0m\n\u001b[0;32m    548\u001b[0m \u001b[38;5;129m@property\u001b[39m\n\u001b[0;32m    549\u001b[0m \u001b[38;5;28;01mdef\u001b[39;00m \u001b[38;5;21mrepeat\u001b[39m(\u001b[38;5;28mself\u001b[39m):\n\u001b[0;32m    550\u001b[0m \u001b[38;5;250m    \u001b[39m\u001b[38;5;124;03m\"\"\"The number of glitch pulses to generate per trigger.\u001b[39;00m\n\u001b[0;32m    551\u001b[0m \n\u001b[0;32m    552\u001b[0m \u001b[38;5;124;03m    When the glitch module is triggered, it produces a number of pulses\u001b[39;00m\n\u001b[1;32m   (...)\u001b[0m\n\u001b[0;32m    580\u001b[0m \u001b[38;5;124;03m       ValueError: if any value outside [1, 8192]\u001b[39;00m\n\u001b[0;32m    581\u001b[0m \u001b[38;5;124;03m    \"\"\"\u001b[39;00m\n\u001b[1;32m--> 582\u001b[0m     \u001b[38;5;28;01mreturn\u001b[39;00m \u001b[38;5;28;43mself\u001b[39;49m\u001b[38;5;241;43m.\u001b[39;49m\u001b[43mcwg\u001b[49m\u001b[38;5;241;43m.\u001b[39;49m\u001b[43mgetRepeat\u001b[49m\u001b[43m(\u001b[49m\u001b[43m)\u001b[49m\n",
      "File \u001b[1;32md:\\chipwhisperer5_64\\cw\\home\\portable\\chipwhisperer\\software\\chipwhisperer\\capture\\scopes\\cwhardware\\ChipWhispererGlitch.py:1121\u001b[0m, in \u001b[0;36mChipWhispererGlitch.getRepeat\u001b[1;34m(self)\u001b[0m\n\u001b[0;32m   1119\u001b[0m \u001b[38;5;250m\u001b[39m\u001b[38;5;124;03m\"\"\"Get number of glitches to occur after a trigger\"\"\"\u001b[39;00m\n\u001b[0;32m   1120\u001b[0m num_glitches \u001b[38;5;241m=\u001b[39m \u001b[38;5;28mself\u001b[39m\u001b[38;5;241m.\u001b[39mgetNumGlitches()\n\u001b[1;32m-> 1121\u001b[0m resp \u001b[38;5;241m=\u001b[39m \u001b[38;5;28;43mself\u001b[39;49m\u001b[38;5;241;43m.\u001b[39;49m\u001b[43moa\u001b[49m\u001b[38;5;241;43m.\u001b[39;49m\u001b[43msendMessage\u001b[49m\u001b[43m(\u001b[49m\u001b[43mCODE_READ\u001b[49m\u001b[43m,\u001b[49m\u001b[43m \u001b[49m\u001b[43mglitchaddr\u001b[49m\u001b[43m,\u001b[49m\u001b[43m \u001b[49m\u001b[43mValidate\u001b[49m\u001b[38;5;241;43m=\u001b[39;49m\u001b[38;5;28;43;01mFalse\u001b[39;49;00m\u001b[43m,\u001b[49m\u001b[43m \u001b[49m\u001b[43mmaxResp\u001b[49m\u001b[38;5;241;43m=\u001b[39;49m\u001b[38;5;241;43m8\u001b[39;49m\u001b[43m)\u001b[49m\n\u001b[0;32m   1122\u001b[0m num \u001b[38;5;241m=\u001b[39m resp[\u001b[38;5;241m6\u001b[39m]\n\u001b[0;32m   1123\u001b[0m num \u001b[38;5;241m|\u001b[39m\u001b[38;5;241m=\u001b[39m ((resp[\u001b[38;5;241m7\u001b[39m] \u001b[38;5;241m&\u001b[39m \u001b[38;5;241m~\u001b[39m(\u001b[38;5;28mself\u001b[39m\u001b[38;5;241m.\u001b[39mCLKSOURCE_MASK)) \u001b[38;5;241m>>\u001b[39m \u001b[38;5;241m2\u001b[39m) \u001b[38;5;241m<<\u001b[39m \u001b[38;5;241m8\u001b[39m\n",
      "File \u001b[1;32md:\\chipwhisperer5_64\\cw\\home\\portable\\chipwhisperer\\software\\chipwhisperer\\capture\\scopes\\_OpenADCInterface.py:225\u001b[0m, in \u001b[0;36mOpenADCInterface.sendMessage\u001b[1;34m(self, mode, address, payload, Validate, maxResp, readMask)\u001b[0m\n\u001b[0;32m    222\u001b[0m         scope_logger\u001b[38;5;241m.\u001b[39mwarning(\u001b[38;5;124m\"\u001b[39m\u001b[38;5;124mThe error trace below will show you what led to this:\u001b[39m\u001b[38;5;124m\"\u001b[39m)\n\u001b[0;32m    223\u001b[0m         \u001b[38;5;28;01mraise\u001b[39;00m \u001b[38;5;167;01mValueError\u001b[39;00m\n\u001b[1;32m--> 225\u001b[0m     \u001b[38;5;28;01mreturn\u001b[39;00m \u001b[38;5;28mbytearray\u001b[39m(\u001b[38;5;28;43mself\u001b[39;49m\u001b[38;5;241;43m.\u001b[39;49m\u001b[43mserial\u001b[49m\u001b[38;5;241;43m.\u001b[39;49m\u001b[43mcmdReadMem\u001b[49m\u001b[43m(\u001b[49m\u001b[43maddress\u001b[49m\u001b[43m,\u001b[49m\u001b[43m \u001b[49m\u001b[43mdatalen\u001b[49m\u001b[43m)\u001b[49m)\n\u001b[0;32m    227\u001b[0m \u001b[38;5;28;01melse\u001b[39;00m:\n\u001b[0;32m    228\u001b[0m     \u001b[38;5;66;03m# Write output to memory\u001b[39;00m\n\u001b[0;32m    229\u001b[0m     \u001b[38;5;28mself\u001b[39m\u001b[38;5;241m.\u001b[39mserial\u001b[38;5;241m.\u001b[39mcmdWriteMem(address, pba)\n",
      "File \u001b[1;32md:\\chipwhisperer5_64\\cw\\home\\portable\\chipwhisperer\\software\\chipwhisperer\\hardware\\naeusb\\naeusb.py:757\u001b[0m, in \u001b[0;36mNAEUSB.cmdReadMem\u001b[1;34m(self, addr, dlen)\u001b[0m\n\u001b[0;32m    751\u001b[0m \u001b[38;5;28;01mdef\u001b[39;00m \u001b[38;5;21mcmdReadMem\u001b[39m(\u001b[38;5;28mself\u001b[39m, addr : \u001b[38;5;28mint\u001b[39m, dlen : \u001b[38;5;28mint\u001b[39m) \u001b[38;5;241m-\u001b[39m\u001b[38;5;241m>\u001b[39m \u001b[38;5;28mbytearray\u001b[39m:\n\u001b[0;32m    752\u001b[0m \u001b[38;5;250m    \u001b[39m\u001b[38;5;124;03m\"\"\"\u001b[39;00m\n\u001b[0;32m    753\u001b[0m \u001b[38;5;124;03m    Send command to read over external memory interface from FPGA. Automatically\u001b[39;00m\n\u001b[0;32m    754\u001b[0m \u001b[38;5;124;03m    decides to use control-transfer or bulk-endpoint transfer based on data length.\u001b[39;00m\n\u001b[0;32m    755\u001b[0m \u001b[38;5;124;03m    \"\"\"\u001b[39;00m\n\u001b[1;32m--> 757\u001b[0m     \u001b[38;5;28;01mreturn\u001b[39;00m \u001b[38;5;28;43mself\u001b[39;49m\u001b[38;5;241;43m.\u001b[39;49m\u001b[43musbserializer\u001b[49m\u001b[38;5;241;43m.\u001b[39;49m\u001b[43mcmdReadMem\u001b[49m\u001b[43m(\u001b[49m\u001b[43maddr\u001b[49m\u001b[43m,\u001b[49m\u001b[43m \u001b[49m\u001b[43mdlen\u001b[49m\u001b[43m)\u001b[49m\n",
      "File \u001b[1;32md:\\chipwhisperer5_64\\cw\\home\\portable\\chipwhisperer\\software\\chipwhisperer\\hardware\\naeusb\\naeusb.py:511\u001b[0m, in \u001b[0;36mNAEUSB_Backend.cmdReadMem\u001b[1;34m(self, addr, dlen)\u001b[0m\n\u001b[0;32m    509\u001b[0m pload\u001b[38;5;241m.\u001b[39mextend(packuint32(addr))\n\u001b[0;32m    510\u001b[0m \u001b[38;5;28;01mtry\u001b[39;00m:\n\u001b[1;32m--> 511\u001b[0m     \u001b[38;5;28;43mself\u001b[39;49m\u001b[38;5;241;43m.\u001b[39;49m\u001b[43msendCtrl\u001b[49m\u001b[43m(\u001b[49m\u001b[43mcmd\u001b[49m\u001b[43m,\u001b[49m\u001b[43m \u001b[49m\u001b[43mdata\u001b[49m\u001b[38;5;241;43m=\u001b[39;49m\u001b[43mpload\u001b[49m\u001b[43m)\u001b[49m\n\u001b[0;32m    512\u001b[0m \u001b[38;5;28;01mexcept\u001b[39;00m usb1\u001b[38;5;241m.\u001b[39mUSBErrorPipe:\n\u001b[0;32m    513\u001b[0m     naeusb_logger\u001b[38;5;241m.\u001b[39minfo(\u001b[38;5;124m\"\u001b[39m\u001b[38;5;124mAttempting pipe error fix - typically safe to ignore\u001b[39m\u001b[38;5;124m\"\u001b[39m)\n",
      "File \u001b[1;32md:\\chipwhisperer5_64\\cw\\home\\portable\\chipwhisperer\\software\\chipwhisperer\\hardware\\naeusb\\naeusb.py:479\u001b[0m, in \u001b[0;36mNAEUSB_Backend.sendCtrl\u001b[1;34m(self, cmd, value, data)\u001b[0m\n\u001b[0;32m    475\u001b[0m \u001b[38;5;66;03m# Vendor-specific, OUT, interface control transfer\u001b[39;00m\n\u001b[0;32m    476\u001b[0m naeusb_logger\u001b[38;5;241m.\u001b[39mdebug(\u001b[38;5;124m\"\u001b[39m\u001b[38;5;124mWRITE_CTRL: bmRequestType: \u001b[39m\u001b[38;5;132;01m{:02X}\u001b[39;00m\u001b[38;5;124m, \u001b[39m\u001b[38;5;130;01m\\\u001b[39;00m\n\u001b[0;32m    477\u001b[0m \u001b[38;5;124m            bRequest: \u001b[39m\u001b[38;5;132;01m{:02X}\u001b[39;00m\u001b[38;5;124m, wValue: \u001b[39m\u001b[38;5;132;01m{:04X}\u001b[39;00m\u001b[38;5;124m, wIndex: \u001b[39m\u001b[38;5;132;01m{:04X}\u001b[39;00m\u001b[38;5;124m, data: \u001b[39m\u001b[38;5;132;01m{}\u001b[39;00m\u001b[38;5;124m\"\u001b[39m\u001b[38;5;241m.\u001b[39mformat(\u001b[38;5;241m0x41\u001b[39m, cmd, \\\n\u001b[0;32m    478\u001b[0m                 value, \u001b[38;5;241m0\u001b[39m, data))\n\u001b[1;32m--> 479\u001b[0m \u001b[38;5;28;43mself\u001b[39;49m\u001b[38;5;241;43m.\u001b[39;49m\u001b[43mhandle\u001b[49m\u001b[38;5;241;43m.\u001b[39;49m\u001b[43mcontrolWrite\u001b[49m\u001b[43m(\u001b[49m\u001b[38;5;241;43m0x41\u001b[39;49m\u001b[43m,\u001b[49m\u001b[43m \u001b[49m\u001b[43mcmd\u001b[49m\u001b[43m,\u001b[49m\u001b[43m \u001b[49m\u001b[43mvalue\u001b[49m\u001b[43m,\u001b[49m\u001b[43m \u001b[49m\u001b[38;5;241;43m0\u001b[39;49m\u001b[43m,\u001b[49m\u001b[43m \u001b[49m\u001b[43mdata\u001b[49m\u001b[43m,\u001b[49m\u001b[43m \u001b[49m\u001b[43mtimeout\u001b[49m\u001b[38;5;241;43m=\u001b[39;49m\u001b[38;5;28;43mself\u001b[39;49m\u001b[38;5;241;43m.\u001b[39;49m\u001b[43m_timeout\u001b[49m\u001b[43m)\u001b[49m\n",
      "File \u001b[1;32mD:\\CHIPWH~1\\cw\\home\\portable\\WPy64-31080\\python-3.10.8.amd64\\lib\\site-packages\\usb1\\__init__.py:1330\u001b[0m, in \u001b[0;36mUSBDeviceHandle.controlWrite\u001b[1;34m(self, request_type, request, value, index, data, timeout)\u001b[0m\n\u001b[0;32m   1328\u001b[0m \u001b[38;5;66;03m# pylint: enable=undefined-variable\u001b[39;00m\n\u001b[0;32m   1329\u001b[0m data, _ \u001b[38;5;241m=\u001b[39m create_initialised_buffer(data)\n\u001b[1;32m-> 1330\u001b[0m \u001b[38;5;28;01mreturn\u001b[39;00m \u001b[38;5;28;43mself\u001b[39;49m\u001b[38;5;241;43m.\u001b[39;49m\u001b[43m_controlTransfer\u001b[49m\u001b[43m(\u001b[49m\u001b[43mrequest_type\u001b[49m\u001b[43m,\u001b[49m\u001b[43m \u001b[49m\u001b[43mrequest\u001b[49m\u001b[43m,\u001b[49m\u001b[43m \u001b[49m\u001b[43mvalue\u001b[49m\u001b[43m,\u001b[49m\u001b[43m \u001b[49m\u001b[43mindex\u001b[49m\u001b[43m,\u001b[49m\u001b[43m \u001b[49m\u001b[43mdata\u001b[49m\u001b[43m,\u001b[49m\n\u001b[0;32m   1331\u001b[0m \u001b[43m                             \u001b[49m\u001b[43msizeof\u001b[49m\u001b[43m(\u001b[49m\u001b[43mdata\u001b[49m\u001b[43m)\u001b[49m\u001b[43m,\u001b[49m\u001b[43m \u001b[49m\u001b[43mtimeout\u001b[49m\u001b[43m)\u001b[49m\n",
      "File \u001b[1;32mD:\\CHIPWH~1\\cw\\home\\portable\\WPy64-31080\\python-3.10.8.amd64\\lib\\site-packages\\usb1\\__init__.py:1307\u001b[0m, in \u001b[0;36mUSBDeviceHandle._controlTransfer\u001b[1;34m(self, request_type, request, value, index, data, length, timeout)\u001b[0m\n\u001b[0;32m   1301\u001b[0m \u001b[38;5;28;01mdef\u001b[39;00m \u001b[38;5;21m_controlTransfer\u001b[39m(\n\u001b[0;32m   1302\u001b[0m         \u001b[38;5;28mself\u001b[39m, request_type, request, value, index, data, length, timeout):\n\u001b[0;32m   1303\u001b[0m     result \u001b[38;5;241m=\u001b[39m libusb1\u001b[38;5;241m.\u001b[39mlibusb_control_transfer(\n\u001b[0;32m   1304\u001b[0m         \u001b[38;5;28mself\u001b[39m\u001b[38;5;241m.\u001b[39m__handle, request_type, request, value, index, data, length,\n\u001b[0;32m   1305\u001b[0m         timeout,\n\u001b[0;32m   1306\u001b[0m     )\n\u001b[1;32m-> 1307\u001b[0m     \u001b[43mmayRaiseUSBError\u001b[49m\u001b[43m(\u001b[49m\u001b[43mresult\u001b[49m\u001b[43m)\u001b[49m\n\u001b[0;32m   1308\u001b[0m     \u001b[38;5;28;01mreturn\u001b[39;00m result\n",
      "File \u001b[1;32mD:\\CHIPWH~1\\cw\\home\\portable\\WPy64-31080\\python-3.10.8.amd64\\lib\\site-packages\\usb1\\__init__.py:127\u001b[0m, in \u001b[0;36mmayRaiseUSBError\u001b[1;34m(value, __raiseUSBError)\u001b[0m\n\u001b[0;32m    121\u001b[0m \u001b[38;5;28;01mdef\u001b[39;00m \u001b[38;5;21mmayRaiseUSBError\u001b[39m(\n\u001b[0;32m    122\u001b[0m         value,\n\u001b[0;32m    123\u001b[0m         \u001b[38;5;66;03m# Avoid globals lookup on call to work during interpreter shutdown.\u001b[39;00m\n\u001b[0;32m    124\u001b[0m         __raiseUSBError\u001b[38;5;241m=\u001b[39mraiseUSBError,\n\u001b[0;32m    125\u001b[0m     ):\n\u001b[0;32m    126\u001b[0m     \u001b[38;5;28;01mif\u001b[39;00m value \u001b[38;5;241m<\u001b[39m \u001b[38;5;241m0\u001b[39m:\n\u001b[1;32m--> 127\u001b[0m         \u001b[43m__raiseUSBError\u001b[49m\u001b[43m(\u001b[49m\u001b[43mvalue\u001b[49m\u001b[43m)\u001b[49m\n\u001b[0;32m    128\u001b[0m     \u001b[38;5;28;01mreturn\u001b[39;00m value\n",
      "File \u001b[1;32mD:\\CHIPWH~1\\cw\\home\\portable\\WPy64-31080\\python-3.10.8.amd64\\lib\\site-packages\\usb1\\__init__.py:119\u001b[0m, in \u001b[0;36mraiseUSBError\u001b[1;34m(value, __STATUS_TO_EXCEPTION_DICT, __USBError)\u001b[0m\n\u001b[0;32m    113\u001b[0m \u001b[38;5;28;01mdef\u001b[39;00m \u001b[38;5;21mraiseUSBError\u001b[39m(\n\u001b[0;32m    114\u001b[0m         value,\n\u001b[0;32m    115\u001b[0m         \u001b[38;5;66;03m# Avoid globals lookup on call to work during interpreter shutdown.\u001b[39;00m\n\u001b[0;32m    116\u001b[0m         __STATUS_TO_EXCEPTION_DICT\u001b[38;5;241m=\u001b[39mSTATUS_TO_EXCEPTION_DICT,\n\u001b[0;32m    117\u001b[0m         __USBError\u001b[38;5;241m=\u001b[39mUSBError,\n\u001b[0;32m    118\u001b[0m     ): \u001b[38;5;66;03m# pylint: disable=dangerous-default-value\u001b[39;00m\n\u001b[1;32m--> 119\u001b[0m     \u001b[38;5;28;01mraise\u001b[39;00m __STATUS_TO_EXCEPTION_DICT\u001b[38;5;241m.\u001b[39mget(value, __USBError)(value)\n",
      "\u001b[1;31mUSBErrorIO\u001b[0m: LIBUSB_ERROR_IO [-1]"
     ]
    }
   ],
   "source": [
    "import time \n",
    "while True:\n",
    "    scope.glitch.repeat = 980\n",
    "    scope.glitch.manual_trigger()\n",
    "    time.sleep(0.35)  # 暂停1秒"
   ]
  },
  {
   "cell_type": "code",
   "execution_count": null,
   "id": "5bdf6730",
   "metadata": {},
   "outputs": [],
   "source": []
  }
 ],
 "metadata": {
  "kernelspec": {
   "display_name": "Python 3 (ipykernel)",
   "language": "python",
   "name": "python3"
  },
  "language_info": {
   "codemirror_mode": {
    "name": "ipython",
    "version": 3
   },
   "file_extension": ".py",
   "mimetype": "text/x-python",
   "name": "python",
   "nbconvert_exporter": "python",
   "pygments_lexer": "ipython3",
   "version": "3.10.8"
  }
 },
 "nbformat": 4,
 "nbformat_minor": 5
}
